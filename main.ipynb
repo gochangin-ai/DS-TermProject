{
 "cells": [
  {
   "cell_type": "markdown",
   "source": [
    "# Data Preprocessing\n",
    "### Import libraries"
   ],
   "metadata": {
    "collapsed": false
   }
  },
  {
   "cell_type": "code",
   "execution_count": null,
   "outputs": [],
   "source": [
    "import pandas as pd\n",
    "import numpy as np\n",
    "from sklearn.preprocessing import StandardScaler, LabelEncoder\n",
    "from sklearn.metrics import mean_squared_error\n",
    "from sklearn.decomposition import PCA\n",
    "from sklearn.cluster import KMeans\n",
    "from sklearn.model_selection import KFold\n",
    "from sklearn.linear_model import LinearRegression\n",
    "import matplotlib.pyplot as plt\n",
    "from sklearn.model_selection import train_test_split"
   ],
   "metadata": {
    "collapsed": false,
    "pycharm": {
     "name": "#%%\n"
    }
   }
  },
  {
   "cell_type": "markdown",
   "source": [
    "### Read csv Data \"Labtop_data.csv\""
   ],
   "metadata": {
    "collapsed": false
   }
  },
  {
   "cell_type": "code",
   "execution_count": null,
   "outputs": [],
   "source": [
    "dataSet = pd.read_csv(\"Laptop_data.csv\")\n",
    "df = pd.DataFrame(dataSet)"
   ],
   "metadata": {
    "collapsed": false,
    "pycharm": {
     "name": "#%%\n"
    }
   }
  },
  {
   "cell_type": "markdown",
   "source": [
    "### Show brief dataset spec"
   ],
   "metadata": {
    "collapsed": false
   }
  },
  {
   "cell_type": "code",
   "execution_count": null,
   "outputs": [],
   "source": [
    "print(df.head(5))\n",
    "print(df.shape)\n",
    "print(df.index)\n",
    "print(df.columns)"
   ],
   "metadata": {
    "collapsed": false,
    "pycharm": {
     "name": "#%%\n"
    }
   }
  },
  {
   "cell_type": "markdown",
   "source": [
    "### missing value control"
   ],
   "metadata": {
    "collapsed": false
   }
  },
  {
   "cell_type": "code",
   "execution_count": null,
   "outputs": [],
   "source": [
    "#check missing data and remove that row\n",
    "print(df.isnull().sum())\n",
    "df = df.dropna()\n",
    "missing = df[df['os']=='Missing'].index\n",
    "df = df.drop(missing)\n",
    "print(df.isnull().sum())\n",
    "print(df.shape)\n",
    "print(df.info())\n",
    "\n",
    "#re-setting index\n",
    "df = df.reset_index()\n",
    "#df = df[df['weight'] == 'Gaming']\n",
    "\n"
   ],
   "metadata": {
    "collapsed": false,
    "pycharm": {
     "name": "#%%\n"
    }
   }
  },
  {
   "cell_type": "markdown",
   "source": [
    "### categorical values control"
   ],
   "metadata": {
    "collapsed": false
   }
  },
  {
   "cell_type": "code",
   "execution_count": null,
   "outputs": [],
   "source": [
    "#categorical columns were converted by one-hot encoding\n",
    "df_brand = pd.get_dummies(df['brand'])\n",
    "df_model = pd.get_dummies(df['model'])\n",
    "df_p_brand = pd.get_dummies(df['processor_brand'])\n",
    "df_p_name = pd.get_dummies(df['processor_name'])\n",
    "df_p_gnrtn = pd.get_dummies(df['processor_gnrtn'])\n",
    "df_ram_gb = pd.get_dummies(df['ram_gb'])\n",
    "df_ram_type = pd.get_dummies(df['ram_type'])\n",
    "df_ssd = pd.get_dummies(df['ssd'])\n",
    "df_hdd = pd.get_dummies(df['hdd'])\n",
    "df_os = pd.get_dummies(df['os'])\n",
    "df_os_bit = pd.get_dummies(df['os_bit'])\n",
    "df_graphic = pd.get_dummies(df['graphic_card_gb'])\n",
    "df_weight = pd.get_dummies(df['weight'])\n",
    "df_display = pd.get_dummies(df['display_size'])\n",
    "df_warranty = pd.get_dummies(df['warranty'])\n",
    "df_touch = pd.get_dummies(df['Touchscreen'])\n",
    "df_ms = pd.get_dummies(df['msoffice'])"
   ],
   "metadata": {
    "collapsed": false,
    "pycharm": {
     "name": "#%%\n"
    }
   }
  },
  {
   "cell_type": "code",
   "execution_count": null,
   "outputs": [],
   "source": [
    "#calculating score for each user\n",
    "##display size score\n",
    "display_score = df['display_size'].replace('All',14)\n",
    "display_score = display_score.astype(float)\n",
    "display_score = display_score.replace(0,14)\n",
    "##processor_gnrtn score\n",
    "gnrtn_score = df['processor_gnrtn'].replace('4th',3)\n",
    "gnrtn_score = gnrtn_score.replace('7th',6)\n",
    "gnrtn_score = gnrtn_score.replace('8th',7)\n",
    "gnrtn_score = gnrtn_score.replace('9th',10)\n",
    "gnrtn_score = gnrtn_score.replace('10th',12)\n",
    "gnrtn_score = gnrtn_score.replace('11th',13)\n",
    "gnrtn_score = gnrtn_score.replace('12th',14)\n",
    "gnrtn_score = gnrtn_score.replace('Missing',7)\n",
    "gnrtn_score = gnrtn_score.astype(int)\n",
    "##processor_name score\n",
    "name_score = df['processor_name'].replace('A6-9225 Processor',7)\n",
    "name_score = name_score.replace('APU Dual',7)\n",
    "name_score = name_score.replace('Athlon Dual',7)\n",
    "name_score = name_score.replace('Celeron Dual',7)\n",
    "name_score = name_score.replace('Core m3',7)\n",
    "name_score = name_score.replace('Dual Core',7)\n",
    "name_score = name_score.replace('Hexa Core',7)\n",
    "name_score = name_score.replace('Pentium Quad',7)\n",
    "name_score = name_score.replace('Pentium Silver',7)\n",
    "name_score = name_score.replace('Snapdragon 7c',7)\n",
    "name_score = name_score.replace('Core i3',10)\n",
    "name_score = name_score.replace('Core i5',11)\n",
    "name_score = name_score.replace('Core i7',12)\n",
    "name_score = name_score.replace('Core i9',13)\n",
    "name_score = name_score.replace('Ryzen 3',11)\n",
    "name_score = name_score.replace('Ryzen 5',12)\n",
    "name_score = name_score.replace('Ryzen 7',13)\n",
    "name_score = name_score.replace('Ryzen 9',14)\n",
    "name_score = name_score.replace('M1 Processor',14)\n",
    "name_score = name_score.replace('M1 Max',15)\n",
    "name_score = name_score.replace('M1 Pro',16)\n",
    "name_score = name_score.astype(int)\n",
    "##ram_gb score\n",
    "ram_gb_score = df['ram_gb'].astype(int)\n",
    "##ssd score\n",
    "ssd_score = df['ssd'].astype(int)\n",
    "##hdd score\n",
    "hdd_score = df['hdd'].astype(int)"
   ],
   "metadata": {
    "collapsed": false,
    "pycharm": {
     "name": "#%%\n"
    }
   }
  },
  {
   "cell_type": "markdown",
   "source": [
    "### Ramtype\n",
    "#### DDR N  N is generation, LP means for mobile,  Unified is apple chip"
   ],
   "metadata": {
    "collapsed": false
   }
  },
  {
   "cell_type": "code",
   "execution_count": null,
   "outputs": [],
   "source": [
    "print(df['ram_type'].unique())"
   ],
   "metadata": {
    "collapsed": false,
    "pycharm": {
     "name": "#%%\n"
    }
   }
  },
  {
   "cell_type": "code",
   "execution_count": null,
   "outputs": [],
   "source": [
    "int_ram_type = df['ram_type'].replace('DDR3',1)\n",
    "int_ram_type = int_ram_type.replace('LPDDR3',1)\n",
    "int_ram_type = int_ram_type.replace('DDR4',2)\n",
    "int_ram_type = int_ram_type.replace('LPDDR4',2)\n",
    "int_ram_type = int_ram_type.replace('LPDDR4X',3)\n",
    "int_ram_type = int_ram_type.replace('DDR5',4)\n",
    "int_ram_type = int_ram_type.replace('Unified',4)"
   ],
   "metadata": {
    "collapsed": false,
    "pycharm": {
     "name": "#%%\n"
    }
   }
  },
  {
   "cell_type": "markdown",
   "source": [
    "### Weight\n",
    "#### weight is ThinNlight < Casual < Gaming"
   ],
   "metadata": {
    "collapsed": false
   }
  },
  {
   "cell_type": "code",
   "execution_count": null,
   "outputs": [],
   "source": [
    "print(df['weight'].unique())"
   ],
   "metadata": {
    "collapsed": false,
    "pycharm": {
     "name": "#%%\n"
    }
   }
  },
  {
   "cell_type": "code",
   "execution_count": null,
   "outputs": [],
   "source": [
    "int_weight = df['weight'].replace('ThinNlight',1)\n",
    "int_weight = int_weight.replace('Casual',2)\n",
    "int_weight = int_weight.replace('Gaming',3)"
   ],
   "metadata": {
    "collapsed": false,
    "pycharm": {
     "name": "#%%\n"
    }
   }
  },
  {
   "cell_type": "markdown",
   "source": [
    "### Display Size"
   ],
   "metadata": {
    "collapsed": false
   }
  },
  {
   "cell_type": "code",
   "execution_count": null,
   "outputs": [],
   "source": [
    "print(df['display_size'].unique())"
   ],
   "metadata": {
    "collapsed": false,
    "pycharm": {
     "name": "#%%\n"
    }
   }
  },
  {
   "cell_type": "code",
   "execution_count": null,
   "outputs": [],
   "source": [
    "float_display = df['display_size'].str.replace('All','0').astype(float)\n",
    "mean_display = float_display.mean()\n",
    "print(mean_display) #14.593054187192118\n",
    "float_display = float_display.replace(0,14.593054187192118 )"
   ],
   "metadata": {
    "collapsed": false,
    "pycharm": {
     "name": "#%%\n"
    }
   }
  },
  {
   "cell_type": "markdown",
   "source": [
    "### Label encoding for YES,NO data"
   ],
   "metadata": {
    "collapsed": false
   }
  },
  {
   "cell_type": "code",
   "execution_count": null,
   "outputs": [],
   "source": [
    "labelencoder = LabelEncoder()\n",
    "\n",
    "df['Touchscreen'] = labelencoder.fit_transform(df['Touchscreen'])\n",
    "df['msoffice'] =labelencoder.fit_transform(df['msoffice'])\n",
    "print(df['msoffice'])"
   ],
   "metadata": {
    "collapsed": false,
    "pycharm": {
     "name": "#%%\n"
    }
   }
  },
  {
   "cell_type": "code",
   "execution_count": null,
   "outputs": [],
   "source": [],
   "metadata": {
    "collapsed": false,
    "pycharm": {
     "name": "#%%\n"
    }
   }
  },
  {
   "cell_type": "code",
   "execution_count": null,
   "outputs": [],
   "source": [],
   "metadata": {
    "collapsed": false,
    "pycharm": {
     "name": "#%%\n"
    }
   }
  },
  {
   "cell_type": "markdown",
   "source": [
    "### feature scaling"
   ],
   "metadata": {
    "collapsed": false
   }
  },
  {
   "cell_type": "code",
   "execution_count": null,
   "outputs": [],
   "source": [
    "#number columns were scaled by standard-scaler\n",
    "standard = StandardScaler()\n",
    "\n",
    "latest_price = standard.fit_transform(df['latest_price'].values.reshape(-1,1))\n",
    "old_price = standard.fit_transform(df['old_price'].values.reshape(-1,1))\n",
    "discount = standard.fit_transform(df['discount'].values.reshape(-1,1))\n",
    "star_rating = standard.fit_transform(df['star_rating'].values.reshape(-1,1))\n",
    "ratings = standard.fit_transform(df['ratings'].values.reshape(-1,1))\n",
    "reviews = standard.fit_transform(df['reviews'].values.reshape(-1,1))\n",
    "os_bit = standard.fit_transform(df['os_bit'].values.reshape(-1,1))\n",
    "vga_gb = standard.fit_transform(df['graphic_card_gb'].values.reshape(-1,1))\n",
    "warranty = standard.fit_transform(df['warranty'].values.reshape(-1,1))\n",
    "name_score_for_reg = standard.fit_transform(name_score.values.reshape(-1,1))\n",
    "gnrtn_score_for_reg = standard.fit_transform(gnrtn_score.values.reshape(-1,1))\n",
    "ssd_score_for_reg =standard.fit_transform(ssd_score.values.reshape(-1,1))\n",
    "hdd_score_for_reg = standard.fit_transform(hdd_score.values.reshape(-1,1))\n",
    "ram_gb_score_for_reg = standard.fit_transform(ram_gb_score.values.reshape(-1,1))\n",
    "touchscreen = standard.fit_transform(df['warranty'].values.reshape(-1,1))\n",
    "msoffice = standard.fit_transform(df['msoffice'].values.reshape(-1,1))\n",
    "int_ram_type = standard.fit_transform(int_ram_type.values.reshape(-1,1))\n",
    "int_weight = standard.fit_transform(int_weight.values.reshape(-1,1))\n",
    "float_display = standard.fit_transform(float_display.values.reshape(-1,1))\n",
    "\n",
    "df_latest_price = pd.DataFrame(latest_price)\n",
    "df_old_price = pd.DataFrame(old_price)\n",
    "df_discount = pd.DataFrame(discount)\n",
    "df_star_rating = pd.DataFrame(star_rating)\n",
    "df_ratings = pd.DataFrame(ratings)\n",
    "df_reviews = pd.DataFrame(reviews)\n",
    "df_os_bit_1 = pd.DataFrame(os_bit)\n",
    "df_graphic_card_gb_1 = pd.DataFrame(vga_gb)\n",
    "df_warranty_1 = pd.DataFrame(warranty)\n",
    "float_display = pd.DataFrame(float_display)\n",
    "int_weight = pd.DataFrame(int_weight)\n",
    "ssd_score_for_reg = pd.DataFrame(ssd_score_for_reg)\n",
    "hdd_score_for_reg = pd.DataFrame(hdd_score_for_reg)\n",
    "int_ram_type = pd.DataFrame(int_ram_type)\n",
    "name_score_for_reg = pd.DataFrame(name_score_for_reg)\n",
    "gnrtn_score_for_reg = pd.DataFrame(gnrtn_score_for_reg)\n",
    "ram_gb_score_for_reg = pd.DataFrame(ram_gb_score_for_reg)\n",
    "df_touchscreen = pd.DataFrame(touchscreen)\n",
    "df_msoffice = pd.DataFrame(msoffice)"
   ],
   "metadata": {
    "collapsed": false,
    "pycharm": {
     "name": "#%%\n"
    }
   }
  },
  {
   "cell_type": "markdown",
   "source": [
    "### create Dataframe for Clustering"
   ],
   "metadata": {
    "collapsed": false
   }
  },
  {
   "cell_type": "code",
   "execution_count": null,
   "outputs": [],
   "source": [
    "#dataframe\n",
    "new_df = pd.concat([display_score,gnrtn_score,name_score,ram_gb_score,ssd_score,hdd_score], axis=1)\n",
    "\n",
    "print(new_df)\n",
    "#new_df = pd.concat([new_df,df['latest_price']],axis=1)\n",
    "x = standard.fit_transform(new_df.values)\n",
    "features = ['display_score','gnrtn_score','name_score','ram_gb_score','ssd_score','hdd_score']\n",
    "\n",
    "new_df = pd.DataFrame(new_df, columns=features)\n"
   ],
   "metadata": {
    "collapsed": false,
    "pycharm": {
     "name": "#%%\n"
    }
   }
  },
  {
   "cell_type": "markdown",
   "source": [
    "### create Dataframe for Regression"
   ],
   "metadata": {
    "collapsed": false
   }
  },
  {
   "cell_type": "code",
   "execution_count": null,
   "outputs": [],
   "source": [
    "df_for_reg = pd.concat([name_score_for_reg,gnrtn_score_for_reg,ram_gb_score_for_reg,int_ram_type,ssd_score_for_reg,hdd_score_for_reg,df_os,df_os_bit_1,df_graphic_card_gb_1,\n",
    "                        int_weight,float_display,df_warranty_1,df_touchscreen,df_msoffice,df_old_price,df_discount,df_star_rating,df_ratings,df_reviews],axis=1)\n",
    "\n",
    "df_for_reg.columns = ['Processor_name','Processor_gnrtn','Ram_gb','Ram_type','SSD','HDD','MAC','WINDOWS','OS_bit','Graphic_card_gb'\n",
    "    ,'Weight','Display_size','Warranty','Touchscreen','Msoffice','Old_price','Discount','Star_rating','Ratings','Reviews']\n",
    "\n",
    "# print without skip\n",
    "pd.set_option('display.max_columns', None)\n",
    "print(df_for_reg)"
   ],
   "metadata": {
    "collapsed": false,
    "pycharm": {
     "name": "#%%\n"
    }
   }
  },
  {
   "cell_type": "markdown",
   "source": [
    "# Clustering"
   ],
   "metadata": {
    "collapsed": false
   }
  },
  {
   "cell_type": "markdown",
   "source": [
    "### get PCA Value"
   ],
   "metadata": {
    "collapsed": false
   }
  },
  {
   "cell_type": "code",
   "execution_count": null,
   "outputs": [],
   "source": [
    "#PCA\n",
    "pca = PCA(n_components=1)\n",
    "pca_x = pca.fit_transform(x)\n",
    "pca_new_df = pd.DataFrame(data=pca_x, columns=['pca'])\n",
    "pca_new_data = pca_new_df.values\n",
    "\n",
    "plt.scatter(df['latest_price'].values,pca_new_data)\n",
    "\n"
   ],
   "metadata": {
    "collapsed": false,
    "pycharm": {
     "name": "#%%\n"
    }
   }
  },
  {
   "cell_type": "markdown",
   "source": [
    "### Clustring using K Means algorithm"
   ],
   "metadata": {
    "collapsed": false
   }
  },
  {
   "cell_type": "code",
   "execution_count": null,
   "outputs": [],
   "source": [
    "#KMeans Clustering\n",
    "clust_df = pca_new_df.copy()\n",
    "clust_df['price'] = df['latest_price'].reset_index(drop=True)\n",
    "#standard.fit_transform(df['latest_price'].values.reshape(-1,1))\n",
    "\n",
    "KM = KMeans(n_clusters=4)\n",
    "KM.fit(clust_df)\n",
    "\n",
    "centers = KM.cluster_centers_\n",
    "pred = KM.predict(clust_df)\n",
    "clust_df['clust'] = pred\n",
    "\n",
    "targets = [0,1,2,3]\n",
    "colors = ['r','g','b','pink']\n",
    "\n",
    "for target, color in zip(targets,colors):\n",
    "    indicesToKeep = clust_df['clust'] == target\n",
    "    plt.scatter(clust_df.loc[indicesToKeep, 'price'], clust_df.loc[indicesToKeep, 'pca'], c = color, s = 10)\n",
    "plt.scatter(centers[:,1], centers[:,0], c='black', s=30, marker='s')\n",
    "plt.xlabel('Price')\n",
    "plt.ylabel('Component PCA Value')\n",
    "plt.title(\"Full Data\")\n",
    "plt.show()"
   ],
   "metadata": {
    "collapsed": false,
    "pycharm": {
     "name": "#%%\n"
    }
   }
  },
  {
   "cell_type": "markdown",
   "source": [
    "# Clustering"
   ],
   "metadata": {
    "collapsed": false
   }
  },
  {
   "cell_type": "markdown",
   "source": [
    "### get Data frame"
   ],
   "metadata": {
    "collapsed": false
   }
  },
  {
   "cell_type": "code",
   "execution_count": null,
   "outputs": [],
   "source": [
    "X = df_for_reg\n",
    "y = df['latest_price']"
   ],
   "metadata": {
    "collapsed": false,
    "pycharm": {
     "name": "#%%\n"
    }
   }
  },
  {
   "cell_type": "markdown",
   "source": [
    "### Multiple Linear Regression with kfold k=5 , k= 10"
   ],
   "metadata": {
    "collapsed": false
   }
  },
  {
   "cell_type": "code",
   "execution_count": null,
   "outputs": [],
   "source": [
    "for i in range(5,11,5):\n",
    "    print('\\n=== kfold k is {} ==='.format(i))\n",
    "    Linear_model = LinearRegression()\n",
    "    kf = KFold(n_splits = i, shuffle = True, random_state = 50)\n",
    "    accuracy_history = []\n",
    "    for train_index, test_index in kf.split(X):\n",
    "        X_train, X_test = X.iloc[train_index], X.iloc[test_index]\n",
    "        y_train, y_test = y.iloc[train_index], y.iloc[test_index]\n",
    "\n",
    "        Linear_model.fit(X_train,y_train)\n",
    "        y_pred = Linear_model.predict(X_test)\n",
    "        accuracy_history.append(Linear_model.score(X_test,y_test))\n",
    "\n",
    "    # Evaluation with R squared\n",
    "    print(\"each fold R square :\", accuracy_history)\n",
    "    print(\"mean R square :\", np.mean(accuracy_history))\n",
    "    print(\"coef: \",Linear_model.coef_)\n",
    "    print(\"intercept: \",Linear_model.intercept_)\n",
    "\n",
    "    #visualize result\n",
    "    plt.scatter(y_test, y_pred, alpha=0.4,c='red')\n",
    "    plt.xlabel(\"Latest price \")\n",
    "    plt.ylabel(\"Predicted price\")\n",
    "    plt.title(\"MULTIPLE LINEAR REGRESSIONkfold {}\".format(i))\n",
    "    plt.show()\n",
    "\n",
    "    plt.plot(Linear_model.predict(X_test), label=\"predicted price\")\n",
    "    plt.plot(y_test.values.reshape(-1, 1), label=\"latest price \")\n",
    "    plt.title(\"MULTIPLE LINEAR REGRESSION kfold {}\".format(i))\n",
    "    plt.legend()\n",
    "    plt.show()\n",
    "\n",
    "    # coefficients visulization\n",
    "    plt.figure(figsize=(10,8))\n",
    "    plt.barh( ['Processor_name','Processor_gnrtn','Ram_gb','Ram_type','SSD','HDD','MAC','WINDOWS','OS_bit','Graphic_card_gb'\n",
    "        ,'Weight','Display_size','Warranty','Touchscreen','Msoffice','Old_price','Discount','Star_rating','Ratings','Reviews'],np.ravel(Linear_model.coef_))\n",
    "\n",
    "    plt.title('Coefficient of feature kfold {}'.format(i), fontsize=20)\n",
    "    plt.xlabel('Coefficient', fontsize=18)\n",
    "    plt.show()"
   ],
   "metadata": {
    "collapsed": false,
    "pycharm": {
     "name": "#%%\n"
    }
   }
  },
  {
   "cell_type": "markdown",
   "source": [
    "### Multiple Linear Regression with Holdout method\n",
    "### train:test  |  90:10 |  80:20 | 70:30"
   ],
   "metadata": {
    "collapsed": false
   }
  },
  {
   "cell_type": "code",
   "execution_count": null,
   "outputs": [],
   "source": [
    "\n",
    "for i in range(1,4):\n",
    "    print('\\n=== train{} | test{} ==='.format((10-i)/10,i/10))\n",
    "\n",
    "    x_train, x_test, y_train, y_test = train_test_split(X,y, test_size=i/10, random_state=1,shuffle=True)\n",
    "\n",
    "    #get model\n",
    "    linear_reg = LinearRegression()\n",
    "\n",
    "    # fit the model to the training data\n",
    "    linear_reg.fit(x_train, y_train)\n",
    "\n",
    "    y_pred = linear_reg.predict(x_test)\n",
    "\n",
    "    # Evaluation with R squared\n",
    "    print(\"R squared :\", linear_reg.score(x_test, y_test))\n",
    "    print('coef: {}'.format(linear_reg.coef_))\n",
    "    print('intercept: {}'.format(linear_reg.intercept_))\n",
    "\n",
    "    #visualize result\n",
    "    plt.scatter(y_test, y_pred, alpha=0.4, c='red')\n",
    "    plt.xlabel(\"Latest price \")\n",
    "    plt.ylabel(\"Predicted price\")\n",
    "    plt.title(\"MULTIPLE LINEAR REGRESSION train{} test{}\".format((10-i)/10,i/10))\n",
    "    plt.show()\n",
    "\n",
    "    plt.plot(linear_reg.predict(x_test), label=\"predicted price\")\n",
    "    plt.plot(y_test.values.reshape(-1, 1), label=\"latest price \")\n",
    "    plt.title(\"MULTIPLE LINEAR REGRESSION train{} test{}\".format((10-i)/10,i/10))\n",
    "    plt.legend()\n",
    "    plt.show()\n",
    "\n",
    "    # coefficients visulization\n",
    "    plt.figure(figsize=(10,8))\n",
    "    plt.barh(['Processor_name', 'Processor_gnrtn', 'Ram_gb', 'Ram_type', 'SSD', 'HDD', 'MAC', 'WINDOWS', 'OS_bit',\n",
    "              'Graphic_card_gb', 'Weight', 'Display_size', 'Warranty', 'Touchscreen', 'Msoffice', 'Old_price', 'Discount',\n",
    "              'Star_rating', 'Ratings', 'Reviews'], np.ravel(linear_reg.coef_))\n",
    "    plt.title('Coefficient of feature train{} test{}'.format((10-i)/10,i/10), fontsize=20)\n",
    "    plt.xlabel('Coefficient', fontsize=18)\n",
    "\n",
    "    plt.show()\n"
   ],
   "metadata": {
    "collapsed": false,
    "pycharm": {
     "name": "#%%\n"
    }
   }
  }
 ],
 "metadata": {
  "kernelspec": {
   "display_name": "Python 3 (ipykernel)",
   "language": "python",
   "name": "python3"
  },
  "language_info": {
   "codemirror_mode": {
    "name": "ipython",
    "version": 3
   },
   "file_extension": ".py",
   "mimetype": "text/x-python",
   "name": "python",
   "nbconvert_exporter": "python",
   "pygments_lexer": "ipython3",
   "version": "3.9.0"
  }
 },
 "nbformat": 4,
 "nbformat_minor": 5
}